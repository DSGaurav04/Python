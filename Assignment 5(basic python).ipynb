{
 "cells": [
  {
   "cell_type": "code",
   "execution_count": 6,
   "id": "c19bc3dd",
   "metadata": {},
   "outputs": [
    {
     "name": "stdout",
     "output_type": "stream",
     "text": [
      "enter the number:45\n",
      "enter the number:36\n",
      "The L.C.M. is 180\n"
     ]
    }
   ],
   "source": [
    "# Q1. Write a Python Program to Find LCM.\n",
    "\n",
    "num1 = int(input(\"enter the number:\"))\n",
    "num2 = int(input(\"enter the number:\"))\n",
    "\n",
    "if num1 > num2:\n",
    "    greater = num1\n",
    "else:\n",
    "    greater = num2\n",
    "\n",
    "while(True):\n",
    "    if((greater % num1 == 0) and (greater % num2 == 0)):\n",
    "        lcm = greater\n",
    "        break\n",
    "    greater += 1\n",
    "\n",
    "print(\"The L.C.M. is\",lcm)"
   ]
  },
  {
   "cell_type": "code",
   "execution_count": 8,
   "id": "5c42a811",
   "metadata": {},
   "outputs": [
    {
     "name": "stdout",
     "output_type": "stream",
     "text": [
      "enter the number:4\n",
      "enter the number:89\n",
      "The H.C.F. is 1\n"
     ]
    }
   ],
   "source": [
    "# Q2. Write a Python Program to Find HCF.\n",
    "\n",
    "num1 = int(input(\"enter the number:\"))\n",
    "num2 = int(input(\"enter the number:\"))\n",
    "\n",
    "if num1 > num2:\n",
    "    smaller = num2\n",
    "else:\n",
    "    smaller = num1\n",
    "for i in range(1, smaller+1):\n",
    "    if((num1 % i == 0) and (num2 % i == 0)):\n",
    "        hcf = i \n",
    "\n",
    "print(\"The H.C.F. is\",hcf)\n"
   ]
  },
  {
   "cell_type": "code",
   "execution_count": 24,
   "id": "2a354303",
   "metadata": {},
   "outputs": [
    {
     "name": "stdout",
     "output_type": "stream",
     "text": [
      "Enter the number:34\n",
      "Binary: 100010\n",
      "\n"
     ]
    }
   ],
   "source": [
    "# Q3. Write a Python Program to Convert Decimal to Binary, Octal and Hexadecimal.\n",
    "# decimal to binary\n",
    "dec = int(input(\"Enter the number:\"))\n",
    "binary = \"\"\n",
    "\n",
    "while dec > 0:\n",
    "    binary = str(dec % 2) + binary\n",
    "    dec = dec // 2\n",
    "\n",
    "print(\"Binary:\",binary)\n",
    "\n",
    "# decimal to octal\n",
    "octal = \"\"\n",
    "\n",
    "while dec > 0:\n",
    "    octal = str(dec % 8) + octal\n",
    "    dec = dec // 8\n",
    "\n",
    "print(\"Octal:\", octal)\n",
    "\n"
   ]
  },
  {
   "cell_type": "code",
   "execution_count": 20,
   "id": "da79fdbc",
   "metadata": {},
   "outputs": [
    {
     "name": "stdout",
     "output_type": "stream",
     "text": [
      "Enter the number:56\n",
      "Decimal: 56\n",
      "Binary: 111000\n",
      "Octal: 70\n",
      "Hexadecimal: 38\n"
     ]
    }
   ],
   "source": [
    "# Decimal number\n",
    "dec = int(input(\"Enter the number:\"))\n",
    "\n",
    "# Convert to binary\n",
    "binary = bin(dec)\n",
    "binary = binary[2:]  \n",
    "\n",
    "# Convert to octal\n",
    "octal = oct(dec)\n",
    "octal = octal[2:]  \n",
    "\n",
    "# Convert to hexadecimal\n",
    "hexadecimal = hex(dec)\n",
    "hexadecimal = hexadecimal[2:]  \n",
    "\n",
    "print(\"Decimal:\", dec)\n",
    "print(\"Binary:\", binary)\n",
    "print(\"Octal:\", octal)\n",
    "print(\"Hexadecimal:\", hexadecimal)\n"
   ]
  },
  {
   "cell_type": "code",
   "execution_count": 4,
   "id": "8cdd430d",
   "metadata": {},
   "outputs": [
    {
     "name": "stdout",
     "output_type": "stream",
     "text": [
      "Enter the ASCII character:S\n",
      "The ASCII value of 'S' is 83\n"
     ]
    }
   ],
   "source": [
    "# Q4. Write a Python Program To Find ASCII value of a character.\n",
    "\n",
    "c = input(\"Enter the ASCII character:\")\n",
    "\n",
    "print(\"The ASCII value of '\" + c + \"' is\", ord(c))"
   ]
  },
  {
   "cell_type": "code",
   "execution_count": 6,
   "id": "2591a1d2",
   "metadata": {},
   "outputs": [
    {
     "name": "stdout",
     "output_type": "stream",
     "text": [
      "Select the operation from:\n",
      " 1.Add.\n",
      " 2.Substraction.\n",
      " 3.Division \n",
      " 4.Multiplication.\n",
      "Enter Your Choice:4\n",
      "Enter the number1:5\n",
      "Enter the number2:5\n",
      "The Multiplication of 5 and 5 is 25\n"
     ]
    }
   ],
   "source": [
    "# 5. Write a Python Program to Make a Simple Calculator with 4 basic mathematical operations.\n",
    "#Enter the number.\n",
    "# display the choice\n",
    "print(\"Select the operation from:\\n 1.Add.\\n 2.Substraction.\\n 3.Division \\n 4.Multiplication.\")\n",
    "# take output from user\n",
    "operator = int(input(\"Enter Your Choice:\"))\n",
    "num1 = int(input(\"Enter the number1:\"))\n",
    "num2 = int(input(\"Enter the number2:\"))\n",
    "\n",
    "if operator == 1:\n",
    "    print(\"The addition of\",num1,\"and\",num2,\"is\",num1+num2)\n",
    "elif operator == 2:\n",
    "    print(\"The substraction of\",num1,\"and\",num2,\"is\",num1-num2)\n",
    "elif operator == 3:\n",
    "    print(\"The Division of\",num1,\"and\",num2,\"is\",num1/num2)\n",
    "elif operator == 4:\n",
    "    print(\"The Multiplication of\",num1,\"and\",num2,\"is\",num1*num2)\n",
    "    \n",
    "        "
   ]
  },
  {
   "cell_type": "code",
   "execution_count": null,
   "id": "972c28b8",
   "metadata": {},
   "outputs": [],
   "source": []
  }
 ],
 "metadata": {
  "kernelspec": {
   "display_name": "Python 3 (ipykernel)",
   "language": "python",
   "name": "python3"
  },
  "language_info": {
   "codemirror_mode": {
    "name": "ipython",
    "version": 3
   },
   "file_extension": ".py",
   "mimetype": "text/x-python",
   "name": "python",
   "nbconvert_exporter": "python",
   "pygments_lexer": "ipython3",
   "version": "3.11.5"
  }
 },
 "nbformat": 4,
 "nbformat_minor": 5
}
